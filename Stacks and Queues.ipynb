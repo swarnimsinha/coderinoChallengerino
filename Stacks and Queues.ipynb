{
 "cells": [
  {
   "cell_type": "markdown",
   "metadata": {},
   "source": [
    "Q) Three in One: Describe how you could use a single array to implement three stacks."
   ]
  },
  {
   "cell_type": "code",
   "execution_count": 5,
   "metadata": {
    "collapsed": true
   },
   "outputs": [],
   "source": [
    "class ThreeStack():\n",
    "    def __init__(self, n):\n",
    "        self.stack = [None]* n\n",
    "        self.indexes = [0,n//2,2*n//3]\n",
    "    def insert(self, location, value):\n",
    "        current_index = location - 1\n",
    "        stack_index = self.indexes[current_index]\n",
    "        self.stack[stack_index] = value\n",
    "        self.indexes[current_index] += 1"
   ]
  },
  {
   "cell_type": "code",
   "execution_count": 14,
   "metadata": {
    "collapsed": true
   },
   "outputs": [],
   "source": [
    "a = ThreeStack(9)\n",
    "a.insert(1,3)\n",
    "a.insert(2,4)\n",
    "a.insert(1,4)\n",
    "a.insert(3,0)"
   ]
  },
  {
   "cell_type": "code",
   "execution_count": 15,
   "metadata": {},
   "outputs": [
    {
     "data": {
      "text/plain": [
       "[3, 4, None, None, 4, None, 0, None, None]"
      ]
     },
     "execution_count": 15,
     "metadata": {},
     "output_type": "execute_result"
    }
   ],
   "source": [
    "a.stack"
   ]
  },
  {
   "cell_type": "markdown",
   "metadata": {},
   "source": [
    "Q) Stack Min: How would you design a stack which, in addition to push and pop, has a function min\n",
    "which returns the minimum element? Push, pop and min should all operate in 0(1) time.m"
   ]
  },
  {
   "cell_type": "code",
   "execution_count": 46,
   "metadata": {
    "collapsed": true
   },
   "outputs": [],
   "source": [
    "class MinStack():\n",
    "    def __init__(self):\n",
    "        self.value = []\n",
    "        self.min = [float('inf')]\n",
    "        \n",
    "    def push(self, value):\n",
    "        self.value.append(value)\n",
    "        if value < self.min[len(self.min)-1]:\n",
    "            self.min.append(value)\n",
    "    \n",
    "    def pop(self):\n",
    "        popped = self.value.pop()\n",
    "        if popped == self.min[len(self.min)-1]:\n",
    "            self.min.pop()\n",
    "    \n",
    "    def minVal(self):\n",
    "        return self.min[len(self.min) - 1]"
   ]
  },
  {
   "cell_type": "code",
   "execution_count": 47,
   "metadata": {},
   "outputs": [
    {
     "name": "stdout",
     "output_type": "stream",
     "text": [
      "5\n",
      "3\n",
      "5\n"
     ]
    },
    {
     "data": {
      "text/plain": [
       "[5, 6]"
      ]
     },
     "execution_count": 47,
     "metadata": {},
     "output_type": "execute_result"
    }
   ],
   "source": [
    "a = MinStack()\n",
    "a.push(5)\n",
    "a.push(6)\n",
    "print(a.minVal())\n",
    "a.push(3)\n",
    "print(a.minVal())\n",
    "a.pop()\n",
    "print(a.minVal())\n",
    "a.value"
   ]
  },
  {
   "cell_type": "markdown",
   "metadata": {},
   "source": [
    "Q) Stack of Plates: Imagine a (literal) stack of plates. If the stack gets too high, it might topple.\n",
    "Therefore, in real life, we would likely start a new stack when the previous stack exceeds some\n",
    "thrshold. Implement a data structure SetOfStacks that mimics this. SetO-Stacks should be\n",
    "composed of several stacks and should create a new stack once the previous one exceeds capacity.\n",
    "SetOfStacks.push() and SetOfStacks. pop() should behave identically to a single stack\n",
    "(that is, pop() should return the same values as it would if there werejust a single stack).\n",
    "FOLLOW UP\n",
    "ImplementafunctionpopAt ( int index) which performs apopoperationon aspecificsub-stack."
   ]
  },
  {
   "cell_type": "code",
   "execution_count": 201,
   "metadata": {
    "collapsed": true
   },
   "outputs": [],
   "source": [
    "class MultiStack():\n",
    "    def __init__(self, threshold):\n",
    "        self.value = [[]]\n",
    "        self.threshold = threshold\n",
    "    \n",
    "    def push(self, value):\n",
    "        current = self.value[len(self.value) - 1]\n",
    "        if len(current) >= self.threshold:\n",
    "            self.value.append([])\n",
    "        current = self.value[len(self.value) - 1]\n",
    "        current.append(value)\n",
    "    \n",
    "    def popval(self):\n",
    "        current = self.value[len(self.value) - 1]\n",
    "        if len(current) == 0:\n",
    "            self.value.pop()\n",
    "        self.value[len(self.value) - 1].pop()\n",
    "\n",
    "    def getIndex(self, index):\n",
    "        ''' \n",
    "        returns the inner and outer index of the required corresponind position\n",
    "        '''\n",
    "        count = 0; i = 0\n",
    "        # keep counting the number of elements until it exceeds the given index\n",
    "        while count <= index:\n",
    "            count += len(self.value[i])\n",
    "            i += 1\n",
    "        # decrement one to target the indexed list and the current  one\n",
    "        i -= 1\n",
    "        # subtract the count from the current count\n",
    "        prevCount = count - len(self.value[i])\n",
    "        # the innerIndex will have the index of the inner array\n",
    "        innerIndex = index - prevCount\n",
    "        # return the outer and inner indexes\n",
    "        return i, innerIndex\n",
    "        \n",
    "    def indexPop(self, index):\n",
    "        outer, inner = self.getIndex(index)\n",
    "        print(self.value[outer].pop(inner))"
   ]
  },
  {
   "cell_type": "code",
   "execution_count": 202,
   "metadata": {
    "collapsed": true
   },
   "outputs": [],
   "source": [
    "a = MultiStack(3)"
   ]
  },
  {
   "cell_type": "code",
   "execution_count": 206,
   "metadata": {},
   "outputs": [
    {
     "data": {
      "text/plain": [
       "[[3, 36, 3], [4, 3, 36], [3, 4, 3], [36, 3, 4], [3, 36, 3], [4]]"
      ]
     },
     "execution_count": 206,
     "metadata": {},
     "output_type": "execute_result"
    }
   ],
   "source": [
    "a.push(3)\n",
    "a.push(36)\n",
    "a.push(3)\n",
    "a.push(4)\n",
    "a.value"
   ]
  },
  {
   "cell_type": "code",
   "execution_count": 207,
   "metadata": {},
   "outputs": [
    {
     "data": {
      "text/plain": [
       "(2, 0)"
      ]
     },
     "execution_count": 207,
     "metadata": {},
     "output_type": "execute_result"
    }
   ],
   "source": [
    "a.getIndex(6)"
   ]
  },
  {
   "cell_type": "code",
   "execution_count": 208,
   "metadata": {
    "collapsed": true
   },
   "outputs": [],
   "source": [
    "a.popval()"
   ]
  },
  {
   "cell_type": "code",
   "execution_count": 209,
   "metadata": {
    "scrolled": true
   },
   "outputs": [
    {
     "data": {
      "text/plain": [
       "[[3, 36, 3], [4, 3, 36], [3, 4, 3], [36, 3, 4], [3, 36, 3], []]"
      ]
     },
     "execution_count": 209,
     "metadata": {},
     "output_type": "execute_result"
    }
   ],
   "source": [
    "a.value"
   ]
  },
  {
   "cell_type": "code",
   "execution_count": 218,
   "metadata": {},
   "outputs": [
    {
     "name": "stdout",
     "output_type": "stream",
     "text": [
      "4\n"
     ]
    }
   ],
   "source": [
    "a.indexPop(5)"
   ]
  },
  {
   "cell_type": "code",
   "execution_count": 219,
   "metadata": {},
   "outputs": [
    {
     "data": {
      "text/plain": [
       "[[3, 36, 3], [4, 3], [], [], [3, 36, 3], []]"
      ]
     },
     "execution_count": 219,
     "metadata": {},
     "output_type": "execute_result"
    }
   ],
   "source": [
    "a.value"
   ]
  },
  {
   "cell_type": "markdown",
   "metadata": {},
   "source": [
    "Q) Queue via Stacks: Implement a MyQueue class which implements a queue using two stacks"
   ]
  },
  {
   "cell_type": "code",
   "execution_count": 254,
   "metadata": {
    "collapsed": true
   },
   "outputs": [],
   "source": [
    "class MyQueue():\n",
    "    def __init__(self):\n",
    "        self.value = []\n",
    "    \n",
    "    def push(self,value):\n",
    "        # same as list\n",
    "        self.value.append(value)\n",
    "    \n",
    "    def pop(self):\n",
    "        # just pop the first element!\n",
    "        self.value.pop(0)"
   ]
  },
  {
   "cell_type": "code",
   "execution_count": 237,
   "metadata": {},
   "outputs": [],
   "source": [
    "a = MyQueue()"
   ]
  },
  {
   "cell_type": "code",
   "execution_count": 248,
   "metadata": {},
   "outputs": [],
   "source": [
    "a.push(2)\n",
    "a.push(7)\n",
    "a.push(3)\n",
    "a.push(3)\n",
    "a.push(3)\n",
    "a.push(4)"
   ]
  },
  {
   "cell_type": "code",
   "execution_count": 252,
   "metadata": {},
   "outputs": [],
   "source": [
    "a.pop()"
   ]
  },
  {
   "cell_type": "code",
   "execution_count": 253,
   "metadata": {},
   "outputs": [
    {
     "data": {
      "text/plain": [
       "[2, 7, 3, 3, 3, 4]"
      ]
     },
     "execution_count": 253,
     "metadata": {},
     "output_type": "execute_result"
    }
   ],
   "source": [
    "a.value"
   ]
  },
  {
   "cell_type": "markdown",
   "metadata": {},
   "source": [
    "Q) Sort Stack: Write a program to sort a stack such that the smallest items are on the top. You can use\n",
    "an additional temporary stack, but you may not copy the elements into any other data structure\n",
    "(such as an array).The stack supports the following operations: push, pop, peek, andisEmpty"
   ]
  },
  {
   "cell_type": "code",
   "execution_count": null,
   "metadata": {
    "collapsed": true
   },
   "outputs": [],
   "source": [
    "class SortStack():\n",
    "    def __init__(self):\n",
    "        self.value = []"
   ]
  }
 ],
 "metadata": {
  "kernelspec": {
   "display_name": "Python 3",
   "language": "python",
   "name": "python3"
  },
  "language_info": {
   "codemirror_mode": {
    "name": "ipython",
    "version": 3
   },
   "file_extension": ".py",
   "mimetype": "text/x-python",
   "name": "python",
   "nbconvert_exporter": "python",
   "pygments_lexer": "ipython3",
   "version": "3.6.2"
  }
 },
 "nbformat": 4,
 "nbformat_minor": 2
}
