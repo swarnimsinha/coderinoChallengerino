{
 "cells": [
  {
   "cell_type": "markdown",
   "metadata": {},
   "source": [
    "Q) One Away: There are three types of edits that can be performed on strings: insert a character,\n",
    "remove a character, or replace a character. Given two strings, write a function to check if they are\n",
    "one edit (or zero edits) away.\n",
    "EXAMPLE\n",
    "pale, ple -> true\n",
    "pales, pale -> true\n",
    "pale, bale -> true\n",
    "pale, bake -> false"
   ]
  },
  {
   "cell_type": "code",
   "execution_count": null,
   "metadata": {
    "collapsed": true
   },
   "outputs": [],
   "source": []
  }
 ],
 "metadata": {
  "kernelspec": {
   "display_name": "Python 3",
   "language": "python",
   "name": "python3"
  },
  "language_info": {
   "codemirror_mode": {
    "name": "ipython",
    "version": 3
   },
   "file_extension": ".py",
   "mimetype": "text/x-python",
   "name": "python",
   "nbconvert_exporter": "python",
   "pygments_lexer": "ipython3",
   "version": "3.6.2"
  }
 },
 "nbformat": 4,
 "nbformat_minor": 2
}
