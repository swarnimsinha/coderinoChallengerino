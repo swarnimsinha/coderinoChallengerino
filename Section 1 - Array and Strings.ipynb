{
 "cells": [
  {
   "cell_type": "markdown",
   "metadata": {},
   "source": [
    "Q) Is Unique: Implement an algorithm to determine if a string has all unique characters. What if you\n",
    "cannot use additional data structures?"
   ]
  },
  {
   "cell_type": "code",
   "execution_count": 1,
   "metadata": {
    "collapsed": true
   },
   "outputs": [],
   "source": [
    "from collections import Counter\n",
    "def isUnique(str):\n",
    "    c = Counter(str)\n",
    "    for key in c:\n",
    "        if int(c[key]) > 1:\n",
    "            return False\n",
    "    return True"
   ]
  },
  {
   "cell_type": "code",
   "execution_count": 2,
   "metadata": {},
   "outputs": [
    {
     "data": {
      "text/plain": [
       "False"
      ]
     },
     "execution_count": 2,
     "metadata": {},
     "output_type": "execute_result"
    }
   ],
   "source": [
    "isUnique('abcc')"
   ]
  },
  {
   "cell_type": "markdown",
   "metadata": {},
   "source": [
    "Q) Check Permutation: Given two strings,write a method to decide if one is a permutation of the\n",
    "other"
   ]
  },
  {
   "cell_type": "code",
   "execution_count": 3,
   "metadata": {
    "collapsed": true
   },
   "outputs": [],
   "source": [
    "from collections import Counter\n",
    "def isPermutation(str1, str2):\n",
    "    a = Counter(str1)\n",
    "    b = Counter(str2)\n",
    "    return a == b"
   ]
  },
  {
   "cell_type": "code",
   "execution_count": 4,
   "metadata": {},
   "outputs": [
    {
     "name": "stdout",
     "output_type": "stream",
     "text": [
      "True\n",
      "False\n",
      "False\n"
     ]
    }
   ],
   "source": [
    "print(isPermutation('test', 'stet'))\n",
    "print(isPermutation('test', 'fest'))\n",
    "print(isPermutation('', 'a'))"
   ]
  },
  {
   "cell_type": "markdown",
   "metadata": {},
   "source": [
    "Q) URLif: length suffcient of Write this theoperation space string. a method at (Note: the intoplace.) end replace If implementing to hold all spaces the additional in in Java, a string please characters, withuse '%20' aand character Youthat mayyou assume array areso given that that the _pg the you string \"true\" 1can 93\n",
    "EXAMPLE\n",
    "Input: \"Mr John Smith \", 13\n",
    "Output: \"Mr%20John%20Smith\""
   ]
  },
  {
   "cell_type": "code",
   "execution_count": 5,
   "metadata": {
    "collapsed": true
   },
   "outputs": [],
   "source": [
    "def urlIfy(str):\n",
    "    str = str.replace(' ', '%20')\n",
    "    return str"
   ]
  },
  {
   "cell_type": "code",
   "execution_count": 6,
   "metadata": {
    "collapsed": true
   },
   "outputs": [],
   "source": [
    "def urlIfyWithArray(str):\n",
    "    myStr = str.split(' ')\n",
    "    return '%20'.join([x for x in myStr])"
   ]
  },
  {
   "cell_type": "code",
   "execution_count": 7,
   "metadata": {},
   "outputs": [
    {
     "name": "stdout",
     "output_type": "stream",
     "text": [
      "Hello%20World\n",
      "%20\n",
      "\n",
      "Hello%20World\n",
      "%20\n",
      "\n"
     ]
    }
   ],
   "source": [
    "print(urlIfy('Hello World'))\n",
    "print(urlIfy(' '))\n",
    "print(urlIfy(''))\n",
    "print(urlIfyWithArray('Hello World'))\n",
    "print(urlIfyWithArray(' '))\n",
    "print(urlIfyWithArray(''))"
   ]
  },
  {
   "cell_type": "markdown",
   "metadata": {},
   "source": [
    "Q) Palindrome Permutation: Given a string, write a function to check if it is a permutation of a palindrome. A palindrome is a word or phrase that is the same frwards and backwards. A permutation\n",
    "is a rearrangement of letters. The palindrome does not need to be limited to just dictionary words.\n",
    "EXAMPLE\n",
    "Input: Tact Coa\n",
    "Output: True (permutations: \"taco cat\", \"atco eta\", etc.)"
   ]
  },
  {
   "cell_type": "code",
   "execution_count": 8,
   "metadata": {
    "collapsed": true
   },
   "outputs": [],
   "source": [
    "def isPalindrome(word1, word2):\n",
    "    return word1 == word2[::-1]"
   ]
  },
  {
   "cell_type": "code",
   "execution_count": 9,
   "metadata": {
    "collapsed": true
   },
   "outputs": [],
   "source": [
    "def isPalindromeWithPointers(word1, word2):\n",
    "    if len(word1) != len(word2):\n",
    "        return False\n",
    "    else:\n",
    "        i = 0; j = len(word1) - 1\n",
    "        while i < j:\n",
    "            if word1[i] == word2[j]:\n",
    "                i+=1;j-=1\n",
    "            else:\n",
    "                return False\n",
    "        return True"
   ]
  },
  {
   "cell_type": "code",
   "execution_count": 10,
   "metadata": {
    "scrolled": true
   },
   "outputs": [
    {
     "name": "stdout",
     "output_type": "stream",
     "text": [
      "True\n",
      "False\n",
      "True\n"
     ]
    }
   ],
   "source": [
    "print(isPalindrome('test', 'tset'))\n",
    "print(isPalindrome('zest', 'tezs'))\n",
    "print(isPalindrome('', ''))"
   ]
  },
  {
   "cell_type": "code",
   "execution_count": 11,
   "metadata": {},
   "outputs": [
    {
     "name": "stdout",
     "output_type": "stream",
     "text": [
      "True\n",
      "False\n",
      "True\n"
     ]
    }
   ],
   "source": [
    "print(isPalindromeWithPointers('test', 'tset'))\n",
    "print(isPalindromeWithPointers('zest', 'tezs'))\n",
    "print(isPalindromeWithPointers('', ''))"
   ]
  },
  {
   "cell_type": "markdown",
   "metadata": {},
   "source": [
    "Q) One Away: There are three types of edits that can be performed on strings: insert a character,\n",
    "remove a character, or replace a character. Given two strings, write a function to check if they are\n",
    "one edit (or zero edits) away.\n",
    "EXAMPLE\n",
    "pale, ple -> true\n",
    "pales, pale -> true\n",
    "pale, bale -> true\n",
    "pale, bake -> false"
   ]
  },
  {
   "cell_type": "code",
   "execution_count": 111,
   "metadata": {
    "collapsed": true
   },
   "outputs": [],
   "source": [
    "def oneWayIns(first, second):\n",
    "    count = 0\n",
    "    j = 0; i = 0\n",
    "    while i < len(first):\n",
    "        if first[i] != second[j]:\n",
    "            if count == 1:\n",
    "                return False\n",
    "            i -= 1\n",
    "            count += 1\n",
    "        i += 1\n",
    "        j += 1\n",
    "    return True\n",
    "\n",
    "def oneWaySame(first, second):\n",
    "    count = 0\n",
    "    for i in range(len(first)):\n",
    "        if first[i] != second[i]:\n",
    "            count += 1\n",
    "            if count > 1:\n",
    "                return False\n",
    "    return True"
   ]
  },
  {
   "cell_type": "code",
   "execution_count": 74,
   "metadata": {
    "collapsed": true
   },
   "outputs": [],
   "source": [
    "# one method - find the dissimilarities in the strings, if greater than one, false\n",
    "def oneWay(str1, str2):\n",
    "    count = 0\n",
    "    if abs(len(str1) - len(str2)) > 1:\n",
    "        return False\n",
    "    else:\n",
    "        if len(str1) == len(str2):\n",
    "            return oneWaySame(str1,str2)\n",
    "        else:\n",
    "            if len(str1) > len(str2):\n",
    "                return oneWayIns(str2, str1)\n",
    "            else:\n",
    "                return oneWayIns(str1, str2)"
   ]
  },
  {
   "cell_type": "code",
   "execution_count": 113,
   "metadata": {},
   "outputs": [
    {
     "name": "stdout",
     "output_type": "stream",
     "text": [
      "False\n",
      "True\n",
      "True\n"
     ]
    }
   ],
   "source": [
    "print(oneWay('pales', 'pblds'))\n",
    "print(oneWay('pales', 'pcles'))\n",
    "print(oneWay('pales', 'ples'))"
   ]
  },
  {
   "cell_type": "markdown",
   "metadata": {},
   "source": [
    "Q) String Compression: Implement a method to perform basic string compression using the counts\n",
    "of repeated characters. For example, the string aabcccccaaa would become a2blc5a3. If the\n",
    "\"compressed\" string would not become smaller than the original string, your method should return\n",
    "the original string. You can assume the string has only uppercase and lowercase letters (a - z)."
   ]
  },
  {
   "cell_type": "code",
   "execution_count": 133,
   "metadata": {
    "collapsed": true
   },
   "outputs": [],
   "source": [
    "from collections import Counter\n",
    "def stringComp(string):\n",
    "    c = Counter(string)\n",
    "    s = ''\n",
    "    for key in c:\n",
    "        s += str(key) + str(c[key])\n",
    "    if len(s) < len(string):\n",
    "        return s\n",
    "    else:\n",
    "        return string"
   ]
  },
  {
   "cell_type": "code",
   "execution_count": 138,
   "metadata": {},
   "outputs": [
    {
     "name": "stdout",
     "output_type": "stream",
     "text": [
      "a5b2c4\n",
      "ancnajdha\n"
     ]
    }
   ],
   "source": [
    "print(stringComp('aabbcaccaca'))\n",
    "print(stringComp('ancnajdha'))"
   ]
  },
  {
   "cell_type": "markdown",
   "metadata": {},
   "source": [
    "Q) Rotate Matrix: Given an image represented by an NxN matrix, where each pixel in the image is 4\n",
    "bytes, write a method to rotate the image by 90 degrees. Can you do this in place?"
   ]
  },
  {
   "cell_type": "code",
   "execution_count": 147,
   "metadata": {
    "collapsed": true
   },
   "outputs": [],
   "source": [
    "def rotateMatrix(X):\n",
    "    N = len(X\n",
    "    for i in range(len(X)//2):\n",
    "        for j in range(i, len(X) - i - 1):\n",
    "            temp = mat[x][y]\n",
    "            # move values from right to top\n",
    "            mat[x][y] = mat[y][N-1-x]\n",
    " \n",
    "            # move values from bottom to right\n",
    "            mat[y][N-1-x] = mat[N-1-x][N-1-y]\n",
    " \n",
    "            # move values from left to bottom\n",
    "            mat[N-1-x][N-1-y] = mat[N-1-y][x]\n",
    " \n",
    "            # assign temp to left\n",
    "            mat[N-1-y][x] = temp\n",
    " \n",
    "            \n",
    "    return X"
   ]
  },
  {
   "cell_type": "code",
   "execution_count": 148,
   "metadata": {},
   "outputs": [
    {
     "data": {
      "text/plain": [
       "[[7, 4, 1], [2, 5, 2], [1, 2, 1]]"
      ]
     },
     "execution_count": 148,
     "metadata": {},
     "output_type": "execute_result"
    }
   ],
   "source": [
    "X = [[1,2,3], [4,5,6], [7,8,9]]\n",
    "rotateMatrix(X)"
   ]
  },
  {
   "cell_type": "markdown",
   "metadata": {},
   "source": [
    "Q) Write an algorithm such that if an element in an MxN matrix is 0, its entire row and\n",
    "column are set to 0."
   ]
  },
  {
   "cell_type": "code",
   "execution_count": 155,
   "metadata": {
    "collapsed": true
   },
   "outputs": [],
   "source": [
    "# this just sets everything to zero which isn't asked.\n",
    "# todo - change that column and row to zero and not the entire matrix\n",
    "# read the question properly!\n",
    "def zeroMatrix(matrix):\n",
    "    for i in range(len(matrix)):\n",
    "        for j in range(len(matrix[i])):\n",
    "            if matrix[i][j] == 0:\n",
    "                matrix = zeroIt(matrix)\n",
    "                break\n",
    "    return matrix\n",
    "def zeroIt(matrix):\n",
    "    for i in range(len(matrix)):\n",
    "        for j in range(len(matrix[i])):\n",
    "            matrix[i][j] = 0\n",
    "    return matrix"
   ]
  },
  {
   "cell_type": "code",
   "execution_count": 157,
   "metadata": {},
   "outputs": [
    {
     "data": {
      "text/plain": [
       "[[0, 0, 0], [0, 0, 0], [0, 0, 0]]"
      ]
     },
     "execution_count": 157,
     "metadata": {},
     "output_type": "execute_result"
    }
   ],
   "source": [
    "X = [[1,2,3], [4,0,6], [7,8,9]]\n",
    "zeroMatrix(X)"
   ]
  },
  {
   "cell_type": "markdown",
   "metadata": {},
   "source": [
    "Q) String Rotation:Assumeyou have a method isSubstringwhich checks if one word is a substring\n",
    "of another. Given two strings, sl and s2, write code to check if s2 is a rotation of sl using only one\n",
    "call to isSubstring(e.g.,\"waterbottle\"is a rotation of\"erbottlewat\")"
   ]
  },
  {
   "cell_type": "code",
   "execution_count": 163,
   "metadata": {},
   "outputs": [
    {
     "data": {
      "text/plain": [
       "'ter'"
      ]
     },
     "execution_count": 163,
     "metadata": {},
     "output_type": "execute_result"
    }
   ],
   "source": [
    "a = 'water'\n",
    "a[2:]"
   ]
  },
  {
   "cell_type": "code",
   "execution_count": 164,
   "metadata": {},
   "outputs": [],
   "source": [
    "def isSubstring(str1, str2):\n",
    "    for i in range(len(str1)):\n",
    "        temp = str1[i:] + str1[:i]\n",
    "        if temp == str2:\n",
    "            return True\n",
    "    return False"
   ]
  },
  {
   "cell_type": "code",
   "execution_count": 166,
   "metadata": {},
   "outputs": [
    {
     "name": "stdout",
     "output_type": "stream",
     "text": [
      "water\n",
      "aterw\n",
      "terwa\n",
      "erwat\n",
      "rwate\n"
     ]
    },
    {
     "data": {
      "text/plain": [
       "False"
      ]
     },
     "execution_count": 166,
     "metadata": {},
     "output_type": "execute_result"
    }
   ],
   "source": [
    "isSubstring('water', 'terwb')"
   ]
  }
 ],
 "metadata": {
  "kernelspec": {
   "display_name": "Python 3",
   "language": "python",
   "name": "python3"
  },
  "language_info": {
   "codemirror_mode": {
    "name": "ipython",
    "version": 3
   },
   "file_extension": ".py",
   "mimetype": "text/x-python",
   "name": "python",
   "nbconvert_exporter": "python",
   "pygments_lexer": "ipython3",
   "version": "3.6.2"
  }
 },
 "nbformat": 4,
 "nbformat_minor": 2
}
